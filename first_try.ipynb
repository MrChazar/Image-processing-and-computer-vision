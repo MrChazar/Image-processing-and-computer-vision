{
 "cells": [
  {
   "cell_type": "code",
   "execution_count": 10,
   "id": "initial_id",
   "metadata": {
    "collapsed": true,
    "ExecuteTime": {
     "end_time": "2024-10-12T19:36:12.049343800Z",
     "start_time": "2024-10-12T19:36:12.008593800Z"
    }
   },
   "outputs": [],
   "source": [
    "import matplotlib.pyplot as plt\n",
    "import cv2\n",
    "import random\n",
    "import numpy as np\n",
    "import scipy as scp\n",
    "import os"
   ]
  },
  {
   "cell_type": "code",
   "execution_count": 9,
   "outputs": [
    {
     "name": "stdout",
     "output_type": "stream",
     "text": [
      "[[[201 201 201]\n",
      "  [199 199 199]\n",
      "  [196 196 196]\n",
      "  ...\n",
      "  [  0   0   0]\n",
      "  [  0   0   0]\n",
      "  [  0   0   0]]\n",
      "\n",
      " [[204 204 204]\n",
      "  [200 200 200]\n",
      "  [196 196 196]\n",
      "  ...\n",
      "  [  0   0   0]\n",
      "  [  0   0   0]\n",
      "  [  0   0   0]]\n",
      "\n",
      " [[208 208 208]\n",
      "  [202 202 202]\n",
      "  [197 197 197]\n",
      "  ...\n",
      "  [  0   0   0]\n",
      "  [  0   0   0]\n",
      "  [  0   0   0]]\n",
      "\n",
      " ...\n",
      "\n",
      " [[  1   1   1]\n",
      "  [  0   0   0]\n",
      "  [  0   0   0]\n",
      "  ...\n",
      "  [  3   3   3]\n",
      "  [  0   0   0]\n",
      "  [  2   2   2]]\n",
      "\n",
      " [[  1   1   1]\n",
      "  [  0   0   0]\n",
      "  [  0   0   0]\n",
      "  ...\n",
      "  [  3   3   3]\n",
      "  [  0   0   0]\n",
      "  [  1   1   1]]\n",
      "\n",
      " [[  1   1   1]\n",
      "  [  0   0   0]\n",
      "  [  0   0   0]\n",
      "  ...\n",
      "  [  3   3   3]\n",
      "  [  0   0   0]\n",
      "  [  1   1   1]]]\n"
     ]
    },
    {
     "data": {
      "text/plain": "<Figure size 640x480 with 1 Axes>",
      "image/png": "[encoded data removed]"
     },
     "metadata": {},
     "output_type": "display_data"
    }
   ],
   "source": [
    "# Wczytanie przykładowe zdjęcia\n",
    "image = cv2.imread(\"Datasets/BUU-LSPINE_400/BUU-LSPINE_400/AP/0001-F-037Y0.jpg\")\n",
    "print(image)\n",
    "plt.hist(image.ravel(), 256, (0, 256))\n",
    "plt.title('Oryginalny obraz')\n",
    "plt.show()"
   ],
   "metadata": {
    "collapsed": false,
    "ExecuteTime": {
     "end_time": "2024-10-12T19:22:16.064788100Z",
     "start_time": "2024-10-12T19:22:15.005063600Z"
    }
   },
   "id": "ea8fb3c8930d0a57"
  },
  {
   "cell_type": "code",
   "execution_count": 11,
   "outputs": [
    {
     "name": "stdout",
     "output_type": "stream",
     "text": [
      "Liczba obrazów w images_ap: 400\n",
      "Liczba obrazów w images_la: 400\n"
     ]
    }
   ],
   "source": [
    "images_ap = []\n",
    "images_la = []\n",
    "\n",
    "path_ap = \"Datasets/BUU-LSPINE_400/BUU-LSPINE_400/AP\"\n",
    "path_la = \"Datasets/BUU-LSPINE_400/BUU-LSPINE_400/LA\"\n",
    "\n",
    "for filename in os.listdir(path_ap):\n",
    "    if filename.endswith(('.jpg', '.png', '.jpeg')):  \n",
    "        img_path = os.path.join(path_ap, filename)\n",
    "        image = cv2.imread(img_path)\n",
    "        images_ap.append(image)\n",
    "\n",
    "for filename in os.listdir(path_la):\n",
    "    if filename.endswith(('.jpg', '.png', '.jpeg')): \n",
    "        img_path = os.path.join(path_la, filename)\n",
    "        image = cv2.imread(img_path)\n",
    "        images_la.append(image)\n",
    "\n",
    "print(f'Liczba obrazów w images_ap: {len(images_ap)}')\n",
    "print(f'Liczba obrazów w images_la: {len(images_la)}')"
   ],
   "metadata": {
    "collapsed": false,
    "ExecuteTime": {
     "end_time": "2024-10-12T19:39:16.162447700Z",
     "start_time": "2024-10-12T19:37:54.768008800Z"
    }
   },
   "id": "1e55c75dba25f63a"
  },
  {
   "cell_type": "code",
   "execution_count": null,
   "outputs": [],
   "source": [],
   "metadata": {
    "collapsed": false
   },
   "id": "fad4af4e2053f9a8"
  }
 ],
 "metadata": {
  "kernelspec": {
   "display_name": "Python 3",
   "language": "python",
   "name": "python3"
  },
  "language_info": {
   "codemirror_mode": {
    "name": "ipython",
    "version": 2
   },
   "file_extension": ".py",
   "mimetype": "text/x-python",
   "name": "python",
   "nbconvert_exporter": "python",
   "pygments_lexer": "ipython2",
   "version": "2.7.6"
  }
 },
 "nbformat": 4,
 "nbformat_minor": 5
}
