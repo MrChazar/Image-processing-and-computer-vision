{
 "cells": [
  {
   "cell_type": "code",
   "execution_count": 1,
   "outputs": [],
   "source": [
    "import os\n",
    "import cv2\n",
    "import numpy as np\n",
    "import pandas as pd\n",
    "import matplotlib.pyplot as plt"
   ],
   "metadata": {
    "collapsed": false,
    "ExecuteTime": {
     "end_time": "2024-11-10T19:03:21.670501900Z",
     "start_time": "2024-11-10T19:03:21.574186800Z"
    }
   },
   "id": "f08a769a8a4363"
  },
  {
   "cell_type": "markdown",
   "source": [
    "# Ładowanie Danych"
   ],
   "metadata": {
    "collapsed": false
   },
   "id": "38f9ddf87ffa317f"
  },
  {
   "cell_type": "code",
   "execution_count": 4,
   "outputs": [
    {
     "name": "stdout",
     "output_type": "stream",
     "text": [
      "Train images: 135, Train labels: 135\n",
      "Train shape (120, 60, 3)\n",
      "Valid images: 39, Valid labels: 39\n",
      "Test images: 19, Test labels: 19\n"
     ]
    }
   ],
   "source": [
    "import os\n",
    "import cv2\n",
    "import scripts.image_label_loader as iml\n",
    "\n",
    "data_dir = '../Datasets/Normal/scoliosis'\n",
    "train_images, train_labels = iml.load_images_and_labels(data_dir, 'train')\n",
    "valid_images, valid_labels = iml.load_images_and_labels(data_dir, 'valid')\n",
    "test_images, test_labels = iml.load_images_and_labels(data_dir, 'test')\n",
    "\n",
    "print(f'Train images: {len(train_images)}, Train labels: {len(train_labels)}')\n",
    "print(f'Train shape {train_images[0].shape}')\n",
    "print(f'Valid images: {len(valid_images)}, Valid labels: {len(valid_labels)}')\n",
    "print(f'Test images: {len(test_images)}, Test labels: {len(test_labels)}')\n",
    "\n",
    "train_images = np.array(train_images).astype(np.float32)\n",
    "train_labels = np.array(train_labels).astype(np.float32)\n",
    "test_images = np.array(test_images).astype(np.float32)\n",
    "test_labels = np.array(test_labels).astype(np.float32)\n",
    "valid_images = np.array(valid_images).astype(np.float32)\n",
    "valid_labels = np.array(valid_labels).astype(np.float32)\n",
    "\n",
    "train_images = train_images / 255.0\n",
    "test_images = test_images / 255.0\n",
    "valid_images = valid_images / 255.0"
   ],
   "metadata": {
    "collapsed": false,
    "ExecuteTime": {
     "end_time": "2024-11-10T19:05:35.457029100Z",
     "start_time": "2024-11-10T19:05:35.304834700Z"
    }
   },
   "id": "dc81effe9e552a66"
  },
  {
   "cell_type": "code",
   "execution_count": null,
   "outputs": [],
   "source": [
    "import cv2\n",
    "for i in range(0, 2):\n",
    "    print(train_images[0])\n",
    "    plt.imshow(train_images[i])\n",
    "    plt.title(f'Image {i} class {train_labels[i]}') \n",
    "    plt.axis('off')  \n",
    "    plt.show()  "
   ],
   "metadata": {
    "collapsed": false,
    "ExecuteTime": {
     "end_time": "2024-11-10T19:03:23.105288600Z",
     "start_time": "2024-11-10T19:03:23.082130600Z"
    }
   },
   "id": "c19810ce4614e28d"
  },
  {
   "cell_type": "markdown",
   "source": [
    "# Tworzenie Modelu"
   ],
   "metadata": {
    "collapsed": false
   },
   "id": "8ec3b11ecbcd1bbc"
  },
  {
   "cell_type": "code",
   "execution_count": null,
   "outputs": [],
   "source": [
    "import tensorflow\n",
    "import keras\n",
    "from sklearn.metrics import classification_report\n",
    "from keras.models import Sequential\n",
    "from keras.layers import Conv2D, MaxPooling2D, Flatten, Dense\n",
    "from keras.datasets import fashion_mnist\n",
    "import matplotlib.pyplot as plt\n",
    "from sklearn.metrics import confusion_matrix\n",
    "import seaborn as sea\n",
    "import pandas as pd\n",
    "import numpy as np\n",
    "from sklearn.metrics import roc_curve, auc"
   ],
   "metadata": {
    "collapsed": false,
    "ExecuteTime": {
     "start_time": "2024-11-10T19:03:23.094759100Z"
    }
   },
   "id": "dbefd070d81dbf4e"
  },
  {
   "cell_type": "code",
   "execution_count": null,
   "outputs": [],
   "source": [
    "model = Sequential([\n",
    "    Conv2D(120, (3, 3), activation='relu', input_shape=(120, 60, 3)),  # Użycie 3 kanałów\n",
    "    MaxPooling2D((2, 2)),\n",
    "    Conv2D(64, (3, 3), activation='relu'),\n",
    "    MaxPooling2D((2, 2)),\n",
    "    Conv2D(64, (3, 3), activation='relu'),\n",
    "    Flatten(),\n",
    "    Dense(48, activation='relu'),\n",
    "    Dense(1, activation='sigmoid') \n",
    "])\n",
    "\n",
    "model.compile(optimizer='adam',\n",
    "              loss='binary_crossentropy',  \n",
    "              metrics=['accuracy'])"
   ],
   "metadata": {
    "collapsed": false,
    "ExecuteTime": {
     "start_time": "2024-11-10T19:03:23.100287100Z"
    }
   },
   "id": "acbacf9dd0bebc87"
  },
  {
   "cell_type": "code",
   "execution_count": null,
   "outputs": [],
   "source": [
    "history = model.fit(train_images, train_labels, epochs=10, validation_data=(valid_images, valid_labels))\n",
    "\n",
    "test_loss, test_acc = model.evaluate(test_images, test_labels)\n",
    "print('Dokładność klasyfikacji:', test_acc)"
   ],
   "metadata": {
    "collapsed": false,
    "ExecuteTime": {
     "end_time": "2024-11-10T19:03:23.194644Z",
     "start_time": "2024-11-10T19:03:23.109815700Z"
    }
   },
   "id": "d8942c26e9a989f1"
  },
  {
   "cell_type": "code",
   "execution_count": null,
   "outputs": [],
   "source": [
    "# Krzywye uczenia\n",
    "plt.plot(history.history['loss'], label='Funkcja straty (trening)')\n",
    "plt.plot(history.history['val_loss'], label='Funkcja straty (walidacja)')\n",
    "plt.xlabel('Liczba epok')\n",
    "plt.ylabel('Wartość funkcji straty')\n",
    "plt.legend()\n",
    "plt.title('Krzywa funkcji straty')\n",
    "plt.show()\n",
    "plt.plot(history.history['accuracy'], label='Dokładność (trening)')\n",
    "plt.plot(history.history['val_accuracy'], label='Dokładność (walidacja)')\n",
    "plt.xlabel('Liczba epok')\n",
    "plt.ylabel('Dokładność')\n",
    "plt.legend()\n",
    "plt.title('Krzywa dokładności')\n",
    "plt.show()"
   ],
   "metadata": {
    "collapsed": false,
    "ExecuteTime": {
     "start_time": "2024-11-10T19:03:23.120937100Z"
    }
   },
   "id": "cedac2001ed6f42e"
  },
  {
   "cell_type": "code",
   "execution_count": null,
   "outputs": [],
   "source": [
    "print(test_images.shape)\n",
    "pred_label = model.predict(test_images)"
   ],
   "metadata": {
    "collapsed": false,
    "ExecuteTime": {
     "start_time": "2024-11-10T19:03:23.125938400Z"
    }
   },
   "id": "2e7429ad398f7884"
  },
  {
   "cell_type": "code",
   "execution_count": null,
   "outputs": [],
   "source": [
    "pred_label"
   ],
   "metadata": {
    "collapsed": false,
    "ExecuteTime": {
     "start_time": "2024-11-10T19:03:23.133180200Z"
    }
   },
   "id": "1d617456cc4938e4"
  },
  {
   "cell_type": "code",
   "execution_count": null,
   "outputs": [],
   "source": [
    "pred_label = np.where(pred_label > 0.5, 1, 0)\n",
    "pred_label"
   ],
   "metadata": {
    "collapsed": false,
    "ExecuteTime": {
     "start_time": "2024-11-10T19:03:23.139386900Z"
    }
   },
   "id": "7d1f6f9b6664f04c"
  },
  {
   "cell_type": "code",
   "execution_count": null,
   "outputs": [],
   "source": [
    "# Obliczenie confusion matrix\n",
    "cm = confusion_matrix(pred_label, test_labels)\n",
    "\n",
    "print(cm.diagonal())\n",
    "\n",
    "# Tworzenie DataFrame z confusion matrix\n",
    "df_cm = pd.DataFrame(cm, index = [i for i in range(2)], columns = [i for i in range(2)])\n",
    "\n",
    "# Tworzenie heatmapy confusion matrix\n",
    "plt.figure(figsize = (10,7))\n",
    "sea.heatmap(df_cm, annot=True, fmt='d')\n",
    "plt.xlabel('Predicted')\n",
    "plt.ylabel('True')\n",
    "plt.show()"
   ],
   "metadata": {
    "collapsed": false,
    "ExecuteTime": {
     "start_time": "2024-11-10T19:03:23.149945100Z"
    }
   },
   "id": "fe2d0b1f1c2f062b"
  },
  {
   "cell_type": "code",
   "execution_count": null,
   "outputs": [],
   "source": [
    "img = cv2.imread('Datasets/X-Ray/scoliosis/new_images/test.jpg')\n",
    "my_img = []\n",
    "my_img.append(img)\n",
    "my_img = np.array(my_img).astype(np.float32)\n",
    "my_img = my_img / 255.0\n",
    "my_img.shape"
   ],
   "metadata": {
    "collapsed": false,
    "ExecuteTime": {
     "start_time": "2024-11-10T19:03:23.153953600Z"
    }
   },
   "id": "ff3e44b196aa80ca"
  },
  {
   "cell_type": "code",
   "execution_count": null,
   "outputs": [],
   "source": [
    "prot_lab = model.predict(my_img)"
   ],
   "metadata": {
    "collapsed": false,
    "ExecuteTime": {
     "start_time": "2024-11-10T19:03:23.157953500Z"
    }
   },
   "id": "ba97993ca793fbd3"
  },
  {
   "cell_type": "code",
   "execution_count": null,
   "outputs": [],
   "source": [
    "prot_lab"
   ],
   "metadata": {
    "collapsed": false,
    "ExecuteTime": {
     "start_time": "2024-11-10T19:03:23.160481500Z"
    }
   },
   "id": "6beddaffe7275034"
  },
  {
   "cell_type": "code",
   "execution_count": null,
   "outputs": [],
   "source": [
    "plt.imshow(my_img[0])\n",
    "plt.title(f'Image {0} class {prot_lab}') \n",
    "plt.axis('off')  \n",
    "plt.show()  "
   ],
   "metadata": {
    "collapsed": false,
    "ExecuteTime": {
     "start_time": "2024-11-10T19:03:23.162481Z"
    }
   },
   "id": "dcde7e37c7581ada"
  },
  {
   "cell_type": "code",
   "execution_count": null,
   "outputs": [],
   "source": [
    "img = cv2.imread('Datasets/X-Ray/scoliosis/new_images/healthy.jpg')\n",
    "my_img = []\n",
    "my_img.append(img)\n",
    "my_img = np.array(my_img).astype(np.float32)\n",
    "my_img = my_img / 255.0\n",
    "my_img.shape"
   ],
   "metadata": {
    "collapsed": false,
    "ExecuteTime": {
     "start_time": "2024-11-10T19:03:23.165481500Z"
    }
   },
   "id": "cb7472bb13649941"
  },
  {
   "cell_type": "code",
   "execution_count": null,
   "outputs": [],
   "source": [
    "prot_lab = model.predict(my_img)\n",
    "prot_lab"
   ],
   "metadata": {
    "collapsed": false,
    "ExecuteTime": {
     "start_time": "2024-11-10T19:03:23.166482Z"
    }
   },
   "id": "b856599df9040464"
  },
  {
   "cell_type": "code",
   "execution_count": null,
   "outputs": [],
   "source": [
    "plt.imshow(my_img[0])\n",
    "plt.title(f'Image {0} class {prot_lab}') \n",
    "plt.axis('off')  \n",
    "plt.show()  "
   ],
   "metadata": {
    "collapsed": false,
    "ExecuteTime": {
     "start_time": "2024-11-10T19:03:23.168999200Z"
    }
   },
   "id": "95d5bbfedfd46681"
  }
 ],
 "metadata": {
  "kernelspec": {
   "display_name": "Python 3",
   "language": "python",
   "name": "python3"
  },
  "language_info": {
   "codemirror_mode": {
    "name": "ipython",
    "version": 2
   },
   "file_extension": ".py",
   "mimetype": "text/x-python",
   "name": "python",
   "nbconvert_exporter": "python",
   "pygments_lexer": "ipython2",
   "version": "2.7.6"
  }
 },
 "nbformat": 4,
 "nbformat_minor": 5
}
