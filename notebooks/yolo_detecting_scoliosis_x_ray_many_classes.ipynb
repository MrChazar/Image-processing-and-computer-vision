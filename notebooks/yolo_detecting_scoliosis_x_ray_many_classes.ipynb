{
 "cells": [
  {
   "cell_type": "markdown",
   "source": [
    "# 1. Instalacja i pobranie zależności"
   ],
   "metadata": {
    "collapsed": false
   },
   "id": "6147904906771e1f"
  },
  {
   "cell_type": "markdown",
   "source": [
    "# Cel\n",
    "Zbudowanie modelu który wykryje kręgosłup oraz kręgi"
   ],
   "metadata": {
    "collapsed": false
   },
   "id": "bd81f8e834c3f19e"
  },
  {
   "cell_type": "code",
   "execution_count": 1,
   "outputs": [
    {
     "name": "stdout",
     "output_type": "stream",
     "text": [
      "Defaulting to user installation because normal site-packages is not writeable\n",
      "Looking in links: https://download.pytorch.org/whl/lts/1.8/torch_lts.html\n"
     ]
    },
    {
     "name": "stderr",
     "output_type": "stream",
     "text": [
      "ERROR: Could not find a version that satisfies the requirement torch==1.8.1+cu111 (from versions: 1.11.0, 1.12.0, 1.12.1, 1.13.0, 1.13.1, 2.0.0, 2.0.1, 2.1.0, 2.1.1, 2.1.2, 2.2.0, 2.2.1, 2.2.2, 2.3.0, 2.3.1, 2.4.0, 2.4.1, 2.5.0, 2.5.1)\n",
      "ERROR: No matching distribution found for torch==1.8.1+cu111\n",
      "\n",
      "[notice] A new release of pip is available: 24.0 -> 24.3.1\n",
      "[notice] To update, run: python.exe -m pip install --upgrade pip\n"
     ]
    }
   ],
   "source": [
    "!pip install torch==1.8.1+cu111 torchvision==0.9.1+cu111 torchaudio===0.8.1 -f https://download.pytorch.org/whl/lts/1.8/torch_lts.html"
   ],
   "metadata": {
    "collapsed": false,
    "ExecuteTime": {
     "end_time": "2024-11-23T16:25:04.112101800Z",
     "start_time": "2024-11-23T16:24:58.382592800Z"
    }
   },
   "id": "8b4bb251f328936d"
  },
  {
   "cell_type": "code",
   "execution_count": 2,
   "outputs": [
    {
     "name": "stderr",
     "output_type": "stream",
     "text": [
      "fatal: destination path 'yolov5' already exists and is not an empty directory.\n"
     ]
    }
   ],
   "source": [
    "!git clone https://github.com/ultralytics/yolov5"
   ],
   "metadata": {
    "collapsed": false,
    "ExecuteTime": {
     "end_time": "2024-11-23T16:25:04.288705600Z",
     "start_time": "2024-11-23T16:25:04.075440500Z"
    }
   },
   "id": "cdd0bc2f1c2172ef"
  },
  {
   "cell_type": "code",
   "execution_count": 3,
   "outputs": [
    {
     "name": "stdout",
     "output_type": "stream",
     "text": [
      "Defaulting to user installation because normal site-packages is not writeable\n",
      "Requirement already satisfied: gitpython>=3.1.30 in c:\\program files\\python310\\lib\\site-packages (from -r requirements.txt (line 5)) (3.1.43)\n",
      "Requirement already satisfied: matplotlib>=3.3 in c:\\program files\\python310\\lib\\site-packages (from -r requirements.txt (line 6)) (3.8.3)\n",
      "Requirement already satisfied: numpy>=1.23.5 in c:\\program files\\python310\\lib\\site-packages (from -r requirements.txt (line 7)) (1.26.4)\n",
      "Requirement already satisfied: opencv-python>=4.1.1 in c:\\users\\jakub\\appdata\\roaming\\python\\python310\\site-packages (from -r requirements.txt (line 8)) (4.8.0.74)\n",
      "Requirement already satisfied: pillow>=10.3.0 in c:\\users\\jakub\\appdata\\roaming\\python\\python310\\site-packages (from -r requirements.txt (line 9)) (11.0.0)\n",
      "Requirement already satisfied: psutil in c:\\program files\\python310\\lib\\site-packages (from -r requirements.txt (line 10)) (5.9.8)\n",
      "Requirement already satisfied: PyYAML>=5.3.1 in c:\\program files\\python310\\lib\\site-packages (from -r requirements.txt (line 11)) (6.0.1)\n",
      "Requirement already satisfied: requests>=2.32.2 in c:\\users\\jakub\\appdata\\roaming\\python\\python310\\site-packages (from -r requirements.txt (line 12)) (2.32.3)\n",
      "Requirement already satisfied: scipy>=1.4.1 in c:\\program files\\python310\\lib\\site-packages (from -r requirements.txt (line 13)) (1.12.0)\n",
      "Requirement already satisfied: thop>=0.1.1 in c:\\program files\\python310\\lib\\site-packages (from -r requirements.txt (line 14)) (0.1.1.post2209072238)\n",
      "Requirement already satisfied: torch>=1.8.0 in c:\\program files\\python310\\lib\\site-packages (from -r requirements.txt (line 15)) (2.4.1)\n",
      "Requirement already satisfied: torchvision>=0.9.0 in c:\\program files\\python310\\lib\\site-packages (from -r requirements.txt (line 16)) (0.19.1)\n",
      "Requirement already satisfied: tqdm>=4.66.3 in c:\\users\\jakub\\appdata\\roaming\\python\\python310\\site-packages (from -r requirements.txt (line 17)) (4.67.0)\n",
      "Requirement already satisfied: ultralytics>=8.2.34 in c:\\program files\\python310\\lib\\site-packages (from -r requirements.txt (line 18)) (8.3.31)\n",
      "Requirement already satisfied: pandas>=1.1.4 in c:\\program files\\python310\\lib\\site-packages (from -r requirements.txt (line 27)) (2.2.1)\n",
      "Requirement already satisfied: seaborn>=0.11.0 in c:\\program files\\python310\\lib\\site-packages (from -r requirements.txt (line 28)) (0.13.2)\n",
      "Requirement already satisfied: setuptools>=70.0.0 in c:\\program files\\python310\\lib\\site-packages (from -r requirements.txt (line 42)) (75.5.0)\n",
      "Requirement already satisfied: gitdb<5,>=4.0.1 in c:\\program files\\python310\\lib\\site-packages (from gitpython>=3.1.30->-r requirements.txt (line 5)) (4.0.11)\n",
      "Requirement already satisfied: contourpy>=1.0.1 in c:\\program files\\python310\\lib\\site-packages (from matplotlib>=3.3->-r requirements.txt (line 6)) (1.2.0)\n",
      "Requirement already satisfied: cycler>=0.10 in c:\\program files\\python310\\lib\\site-packages (from matplotlib>=3.3->-r requirements.txt (line 6)) (0.12.1)\n",
      "Requirement already satisfied: fonttools>=4.22.0 in c:\\program files\\python310\\lib\\site-packages (from matplotlib>=3.3->-r requirements.txt (line 6)) (4.49.0)\n",
      "Requirement already satisfied: kiwisolver>=1.3.1 in c:\\program files\\python310\\lib\\site-packages (from matplotlib>=3.3->-r requirements.txt (line 6)) (1.4.5)\n",
      "Requirement already satisfied: packaging>=20.0 in c:\\program files\\python310\\lib\\site-packages (from matplotlib>=3.3->-r requirements.txt (line 6)) (23.2)\n",
      "Requirement already satisfied: pyparsing>=2.3.1 in c:\\program files\\python310\\lib\\site-packages (from matplotlib>=3.3->-r requirements.txt (line 6)) (3.1.2)\n",
      "Requirement already satisfied: python-dateutil>=2.7 in c:\\program files\\python310\\lib\\site-packages (from matplotlib>=3.3->-r requirements.txt (line 6)) (2.9.0.post0)\n",
      "Requirement already satisfied: charset-normalizer<4,>=2 in c:\\program files\\python310\\lib\\site-packages (from requests>=2.32.2->-r requirements.txt (line 12)) (3.3.2)\n",
      "Requirement already satisfied: idna<4,>=2.5 in c:\\users\\jakub\\appdata\\roaming\\python\\python310\\site-packages (from requests>=2.32.2->-r requirements.txt (line 12)) (3.7)\n",
      "Requirement already satisfied: urllib3<3,>=1.21.1 in c:\\program files\\python310\\lib\\site-packages (from requests>=2.32.2->-r requirements.txt (line 12)) (2.2.1)\n",
      "Requirement already satisfied: certifi>=2017.4.17 in c:\\program files\\python310\\lib\\site-packages (from requests>=2.32.2->-r requirements.txt (line 12)) (2024.2.2)\n",
      "Requirement already satisfied: filelock in c:\\program files\\python310\\lib\\site-packages (from torch>=1.8.0->-r requirements.txt (line 15)) (3.13.3)\n",
      "Requirement already satisfied: typing-extensions>=4.8.0 in c:\\program files\\python310\\lib\\site-packages (from torch>=1.8.0->-r requirements.txt (line 15)) (4.10.0)\n",
      "Requirement already satisfied: sympy in c:\\program files\\python310\\lib\\site-packages (from torch>=1.8.0->-r requirements.txt (line 15)) (1.12)\n",
      "Requirement already satisfied: networkx in c:\\program files\\python310\\lib\\site-packages (from torch>=1.8.0->-r requirements.txt (line 15)) (3.2.1)\n",
      "Requirement already satisfied: jinja2 in c:\\program files\\python310\\lib\\site-packages (from torch>=1.8.0->-r requirements.txt (line 15)) (3.1.3)\n",
      "Requirement already satisfied: fsspec in c:\\program files\\python310\\lib\\site-packages (from torch>=1.8.0->-r requirements.txt (line 15)) (2024.3.1)\n",
      "Requirement already satisfied: colorama in c:\\program files\\python310\\lib\\site-packages (from tqdm>=4.66.3->-r requirements.txt (line 17)) (0.4.6)\n",
      "Requirement already satisfied: py-cpuinfo in c:\\program files\\python310\\lib\\site-packages (from ultralytics>=8.2.34->-r requirements.txt (line 18)) (9.0.0)\n",
      "Requirement already satisfied: ultralytics-thop>=2.0.0 in c:\\program files\\python310\\lib\\site-packages (from ultralytics>=8.2.34->-r requirements.txt (line 18)) (2.0.11)\n",
      "Requirement already satisfied: pytz>=2020.1 in c:\\program files\\python310\\lib\\site-packages (from pandas>=1.1.4->-r requirements.txt (line 27)) (2024.1)\n",
      "Requirement already satisfied: tzdata>=2022.7 in c:\\program files\\python310\\lib\\site-packages (from pandas>=1.1.4->-r requirements.txt (line 27)) (2024.1)\n",
      "Requirement already satisfied: smmap<6,>=3.0.1 in c:\\program files\\python310\\lib\\site-packages (from gitdb<5,>=4.0.1->gitpython>=3.1.30->-r requirements.txt (line 5)) (5.0.1)\n",
      "Requirement already satisfied: six>=1.5 in c:\\program files\\python310\\lib\\site-packages (from python-dateutil>=2.7->matplotlib>=3.3->-r requirements.txt (line 6)) (1.16.0)\n",
      "Requirement already satisfied: MarkupSafe>=2.0 in c:\\program files\\python310\\lib\\site-packages (from jinja2->torch>=1.8.0->-r requirements.txt (line 15)) (2.1.5)\n",
      "Requirement already satisfied: mpmath>=0.19 in c:\\program files\\python310\\lib\\site-packages (from sympy->torch>=1.8.0->-r requirements.txt (line 15)) (1.3.0)\n"
     ]
    },
    {
     "name": "stderr",
     "output_type": "stream",
     "text": [
      "\n",
      "[notice] A new release of pip is available: 24.0 -> 24.3.1\n",
      "[notice] To update, run: python.exe -m pip install --upgrade pip\n"
     ]
    }
   ],
   "source": [
    "!cd yolov5 & pip install -r requirements.txt"
   ],
   "metadata": {
    "collapsed": false,
    "ExecuteTime": {
     "end_time": "2024-11-23T16:25:09.500473200Z",
     "start_time": "2024-11-23T16:25:04.275403300Z"
    }
   },
   "id": "64cee4d463a002b4"
  },
  {
   "cell_type": "code",
   "execution_count": 4,
   "outputs": [],
   "source": [
    "import torch\n",
    "from matplotlib import pyplot as plt\n",
    "import numpy as np\n",
    "import cv2"
   ],
   "metadata": {
    "collapsed": false,
    "ExecuteTime": {
     "end_time": "2024-11-23T16:25:14.512756200Z",
     "start_time": "2024-11-23T16:25:09.503447400Z"
    }
   },
   "id": "4298a9a34cc26797"
  },
  {
   "cell_type": "code",
   "execution_count": 5,
   "outputs": [
    {
     "name": "stdout",
     "output_type": "stream",
     "text": [
      "^C\n"
     ]
    }
   ],
   "source": [
    "# Ładowanie modelu\n",
    "!cd yolov5 && python train.py --img 120 --batch 8 --epochs 100 --data scoliosis_all_classes/data.yaml --weights yolov5s.pt --patience 10"
   ],
   "metadata": {
    "collapsed": false,
    "ExecuteTime": {
     "end_time": "2024-11-23T16:57:15.381133700Z",
     "start_time": "2024-11-23T16:25:14.516275900Z"
    }
   },
   "id": "a673a3065ef4c973"
  },
  {
   "cell_type": "code",
   "execution_count": null,
   "outputs": [],
   "source": [
    "model = torch.hub.load('ultralytics/yolov5', 'custom', path='yolov5/runs/train/exp3/weights/last.pt', force_reload=True)"
   ],
   "metadata": {
    "collapsed": false,
    "is_executing": true
   },
   "id": "754e30c789e822c7"
  },
  {
   "cell_type": "code",
   "execution_count": null,
   "outputs": [],
   "source": [
    "import  os\n",
    "img = os.path.join('C:\\\\Users\\\\jakub\\\\OneDrive\\\\Dokumenty\\\\GitHub\\\\Image-processing-and-computer-vision\\\\notebooks\\\\yolov5\\\\dataset\\\\valid\\\\images\\\\IMG_1430_JPG.rf.b756564e31dffe4bb7fe91362401632e.jpg')"
   ],
   "metadata": {
    "collapsed": false,
    "is_executing": true
   },
   "id": "fadb157fc2e67de"
  },
  {
   "cell_type": "code",
   "execution_count": null,
   "outputs": [],
   "source": [
    "results = model(img)"
   ],
   "metadata": {
    "collapsed": false,
    "is_executing": true
   },
   "id": "f528941ebc10a557"
  },
  {
   "cell_type": "code",
   "execution_count": null,
   "outputs": [],
   "source": [
    "results.print()"
   ],
   "metadata": {
    "collapsed": false,
    "is_executing": true
   },
   "id": "a3cabc2aa6cc60de"
  },
  {
   "cell_type": "code",
   "execution_count": null,
   "outputs": [],
   "source": [
    "%matplotlib inline \n",
    "plt.imshow(np.squeeze(results.render()))\n",
    "plt.show()"
   ],
   "metadata": {
    "collapsed": false,
    "is_executing": true
   },
   "id": "da3257f5a5fecd29"
  },
  {
   "cell_type": "code",
   "execution_count": null,
   "outputs": [],
   "source": [
    "cap = cv2.VideoCapture(0)\n",
    "while cap.isOpened():\n",
    "    ret, frame = cap.read()\n",
    "    \n",
    "    # Make detections \n",
    "    results = model(frame)\n",
    "    \n",
    "    cv2.imshow('YOLO', np.squeeze(results.render()))\n",
    "    \n",
    "    if cv2.waitKey(10) & 0xFF == ord('q'):\n",
    "        break\n",
    "cap.release()\n",
    "cv2.destroyAllWindows()"
   ],
   "metadata": {
    "collapsed": false,
    "is_executing": true
   },
   "id": "772db3577377924d"
  }
 ],
 "metadata": {
  "kernelspec": {
   "display_name": "Python 3",
   "language": "python",
   "name": "python3"
  },
  "language_info": {
   "codemirror_mode": {
    "name": "ipython",
    "version": 2
   },
   "file_extension": ".py",
   "mimetype": "text/x-python",
   "name": "python",
   "nbconvert_exporter": "python",
   "pygments_lexer": "ipython2",
   "version": "2.7.6"
  }
 },
 "nbformat": 4,
 "nbformat_minor": 5
}
