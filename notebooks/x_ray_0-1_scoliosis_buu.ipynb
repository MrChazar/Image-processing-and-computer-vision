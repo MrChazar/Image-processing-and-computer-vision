{
 "cells": [
  {
   "cell_type": "code",
   "execution_count": null,
   "id": "initial_id",
   "metadata": {
    "collapsed": true
   },
   "outputs": [],
   "source": [
    "import os\n",
    "import cv2\n",
    "import numpy as np\n",
    "import pandas as pd\n",
    "import matplotlib.pyplot as plt"
   ]
  },
  {
   "cell_type": "markdown",
   "source": [
    "# Cel\n",
    "Zbudowanie modelu klasyfikującego skoliozę - jako tako udany"
   ],
   "metadata": {
    "collapsed": false
   },
   "id": "4a4a74b1f0ea35aa"
  },
  {
   "cell_type": "markdown",
   "source": [
    "# Ładowanie Danych"
   ],
   "metadata": {
    "collapsed": false
   },
   "id": "a6450011929b341d"
  },
  {
   "cell_type": "code",
   "execution_count": 1,
   "outputs": [
    {
     "ename": "FileNotFoundError",
     "evalue": "[WinError 3] System nie może odnaleźć określonej ścieżki: 'Datasets/X-Ray/scoliosis\\\\train\\\\images'",
     "output_type": "error",
     "traceback": [
      "\u001B[1;31m---------------------------------------------------------------------------\u001B[0m",
      "\u001B[1;31mFileNotFoundError\u001B[0m                         Traceback (most recent call last)",
      "Cell \u001B[1;32mIn[1], line 6\u001B[0m\n\u001B[0;32m      3\u001B[0m \u001B[38;5;28;01mimport\u001B[39;00m \u001B[38;5;21;01mscripts\u001B[39;00m\u001B[38;5;21;01m.\u001B[39;00m\u001B[38;5;21;01mimage_label_loader\u001B[39;00m \u001B[38;5;28;01mas\u001B[39;00m \u001B[38;5;21;01miml\u001B[39;00m\n\u001B[0;32m      5\u001B[0m data_dir \u001B[38;5;241m=\u001B[39m \u001B[38;5;124m'\u001B[39m\u001B[38;5;124mDatasets/X-Ray/scoliosis\u001B[39m\u001B[38;5;124m'\u001B[39m\n\u001B[1;32m----> 6\u001B[0m train_images, train_labels \u001B[38;5;241m=\u001B[39m \u001B[43miml\u001B[49m\u001B[38;5;241;43m.\u001B[39;49m\u001B[43mload_images_and_labels\u001B[49m\u001B[43m(\u001B[49m\u001B[43mdata_dir\u001B[49m\u001B[43m,\u001B[49m\u001B[43m \u001B[49m\u001B[38;5;124;43m'\u001B[39;49m\u001B[38;5;124;43mtrain\u001B[39;49m\u001B[38;5;124;43m'\u001B[39;49m\u001B[43m)\u001B[49m\n\u001B[0;32m      7\u001B[0m valid_images, valid_labels \u001B[38;5;241m=\u001B[39m iml\u001B[38;5;241m.\u001B[39mload_images_and_labels(data_dir, \u001B[38;5;124m'\u001B[39m\u001B[38;5;124mvalid\u001B[39m\u001B[38;5;124m'\u001B[39m)\n\u001B[0;32m      8\u001B[0m test_images, test_labels \u001B[38;5;241m=\u001B[39m iml\u001B[38;5;241m.\u001B[39mload_images_and_labels(data_dir, \u001B[38;5;124m'\u001B[39m\u001B[38;5;124mtest\u001B[39m\u001B[38;5;124m'\u001B[39m)\n",
      "File \u001B[1;32m~\\OneDrive\\Dokumenty\\GitHub\\Image-processing-and-computer-vision\\scripts\\image_label_loader.py:14\u001B[0m, in \u001B[0;36mload_images_and_labels\u001B[1;34m(data_dir, set_type)\u001B[0m\n\u001B[0;32m     11\u001B[0m labels_path \u001B[38;5;241m=\u001B[39m os\u001B[38;5;241m.\u001B[39mpath\u001B[38;5;241m.\u001B[39mjoin(data_dir, set_type, \u001B[38;5;124m'\u001B[39m\u001B[38;5;124mlabels\u001B[39m\u001B[38;5;124m'\u001B[39m)\n\u001B[0;32m     13\u001B[0m \u001B[38;5;66;03m# Iteracja przez wszystkie pliki w folderze z obrazami\u001B[39;00m\n\u001B[1;32m---> 14\u001B[0m \u001B[38;5;28;01mfor\u001B[39;00m filename \u001B[38;5;129;01min\u001B[39;00m \u001B[43mos\u001B[49m\u001B[38;5;241;43m.\u001B[39;49m\u001B[43mlistdir\u001B[49m\u001B[43m(\u001B[49m\u001B[43mimages_path\u001B[49m\u001B[43m)\u001B[49m:\n\u001B[0;32m     15\u001B[0m     \u001B[38;5;28;01mif\u001B[39;00m filename\u001B[38;5;241m.\u001B[39mendswith(\u001B[38;5;124m'\u001B[39m\u001B[38;5;124m.jpg\u001B[39m\u001B[38;5;124m'\u001B[39m) \u001B[38;5;129;01mor\u001B[39;00m filename\u001B[38;5;241m.\u001B[39mendswith(\u001B[38;5;124m'\u001B[39m\u001B[38;5;124m.png\u001B[39m\u001B[38;5;124m'\u001B[39m):\n\u001B[0;32m     16\u001B[0m         \u001B[38;5;66;03m# Ścieżka do etykiety\u001B[39;00m\n\u001B[0;32m     17\u001B[0m         label_filename \u001B[38;5;241m=\u001B[39m filename\u001B[38;5;241m.\u001B[39mreplace(\u001B[38;5;124m'\u001B[39m\u001B[38;5;124m.jpg\u001B[39m\u001B[38;5;124m'\u001B[39m, \u001B[38;5;124m'\u001B[39m\u001B[38;5;124m.txt\u001B[39m\u001B[38;5;124m'\u001B[39m)\u001B[38;5;241m.\u001B[39mreplace(\u001B[38;5;124m'\u001B[39m\u001B[38;5;124m.png\u001B[39m\u001B[38;5;124m'\u001B[39m, \u001B[38;5;124m'\u001B[39m\u001B[38;5;124m.txt\u001B[39m\u001B[38;5;124m'\u001B[39m)\n",
      "\u001B[1;31mFileNotFoundError\u001B[0m: [WinError 3] System nie może odnaleźć określonej ścieżki: 'Datasets/X-Ray/scoliosis\\\\train\\\\images'"
     ]
    }
   ],
   "source": [
    "import os\n",
    "import cv2\n",
    "import scripts.image_label_loader as iml\n",
    "\n",
    "data_dir = 'Datasets/X-Ray/scoliosis'\n",
    "train_images, train_labels = iml.load_images_and_labels(data_dir, 'train')\n",
    "valid_images, valid_labels = iml.load_images_and_labels(data_dir, 'valid')\n",
    "test_images, test_labels = iml.load_images_and_labels(data_dir, 'test')\n",
    "\n",
    "print(f'Train images: {len(train_images)}, Train labels: {len(train_labels)}')\n",
    "print(f'Train shape {train_images[0].shape}')\n",
    "print(f'Valid images: {len(valid_images)}, Valid labels: {len(valid_labels)}')\n",
    "print(f'Test images: {len(test_images)}, Test labels: {len(test_labels)}')\n",
    "\n",
    "train_images = np.array(train_images).astype(np.float32)\n",
    "train_labels = np.array(train_labels).astype(np.float32)\n",
    "test_images = np.array(test_images).astype(np.float32)\n",
    "test_labels = np.array(test_labels).astype(np.float32)\n",
    "valid_images = np.array(valid_images).astype(np.float32)\n",
    "valid_labels = np.array(valid_labels).astype(np.float32)\n",
    "\n",
    "train_images = train_images / 255.0\n",
    "test_images = test_images / 255.0\n",
    "valid_images = valid_images / 255.0"
   ],
   "metadata": {
    "collapsed": false,
    "ExecuteTime": {
     "end_time": "2024-11-22T11:16:39.245211800Z",
     "start_time": "2024-11-22T11:16:38.380237800Z"
    }
   },
   "id": "7844614c11e8c931"
  },
  {
   "cell_type": "code",
   "execution_count": null,
   "outputs": [],
   "source": [],
   "metadata": {
    "collapsed": false
   },
   "id": "adc55ed505d9e4f2"
  }
 ],
 "metadata": {
  "kernelspec": {
   "display_name": "Python 3",
   "language": "python",
   "name": "python3"
  },
  "language_info": {
   "codemirror_mode": {
    "name": "ipython",
    "version": 2
   },
   "file_extension": ".py",
   "mimetype": "text/x-python",
   "name": "python",
   "nbconvert_exporter": "python",
   "pygments_lexer": "ipython2",
   "version": "2.7.6"
  }
 },
 "nbformat": 4,
 "nbformat_minor": 5
}
