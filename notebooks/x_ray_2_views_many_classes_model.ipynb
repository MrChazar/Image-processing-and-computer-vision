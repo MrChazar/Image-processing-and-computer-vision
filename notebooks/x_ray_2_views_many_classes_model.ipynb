{
 "cells": [
  {
   "cell_type": "code",
   "execution_count": 1,
   "id": "initial_id",
   "metadata": {
    "collapsed": true,
    "ExecuteTime": {
     "end_time": "2024-11-23T08:02:29.308782500Z",
     "start_time": "2024-11-23T08:02:29.205247300Z"
    }
   },
   "outputs": [],
   "source": [
    "import os\n",
    "import cv2\n",
    "import numpy as np\n",
    "import pandas as pd\n",
    "import matplotlib.pyplot as plt"
   ]
  },
  {
   "cell_type": "markdown",
   "source": [
    "# Cel\n",
    "Zbudowanie modelu klasyfikującego skoliozę - jako tako udany"
   ],
   "metadata": {
    "collapsed": false
   },
   "id": "3468572fec68462b"
  },
  {
   "cell_type": "markdown",
   "source": [
    "# Ładowanie Danych"
   ],
   "metadata": {
    "collapsed": false
   },
   "id": "6c62c9e49f3b606f"
  },
  {
   "cell_type": "code",
   "execution_count": null,
   "outputs": [],
   "source": [],
   "metadata": {
    "collapsed": false
   },
   "id": "ec6565a14611155d"
  }
 ],
 "metadata": {
  "kernelspec": {
   "display_name": "Python 3",
   "language": "python",
   "name": "python3"
  },
  "language_info": {
   "codemirror_mode": {
    "name": "ipython",
    "version": 2
   },
   "file_extension": ".py",
   "mimetype": "text/x-python",
   "name": "python",
   "nbconvert_exporter": "python",
   "pygments_lexer": "ipython2",
   "version": "2.7.6"
  }
 },
 "nbformat": 4,
 "nbformat_minor": 5
}
