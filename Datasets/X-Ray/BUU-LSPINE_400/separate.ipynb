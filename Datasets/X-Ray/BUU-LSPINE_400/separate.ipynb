{
 "cells": [
  {
   "cell_type": "code",
   "execution_count": 1,
   "outputs": [
    {
     "name": "stdout",
     "output_type": "stream",
     "text": [
      "images: ['0001-F-037Y0.jpg', '0003-F-013Y0.jpg', '0004-F-010Y0.jpg', '0005-F-025Y0.jpg', '0006-F-031Y0.jpg', '0007-F-006Y0.jpg', '0008-M-022Y0.jpg', '0009-F-038Y0.jpg', '0010-F-037Y0.jpg', '0011-F-063Y0.jpg', '0012-F-013Y0.jpg', '0013-M-022Y0.jpg', '0014-F-062Y0.jpg', '0015-M-020Y0.jpg', '0016-F-023Y0.jpg', '0017-F-040Y0.jpg', '0018-F-020Y0.jpg', '0019-F-015Y0.jpg', '0020-M-030Y0.jpg', '0021-F-079Y0.jpg', '0022-M-006Y0.jpg', '0023-F-014Y0.jpg', '0024-F-014Y0.jpg', '0025-F-015Y0.jpg', '0026-F-029Y0.jpg', '0028-F-041Y0.jpg', '0029-M-019Y0.jpg', '0031-F-014Y0.jpg', '0032-F-007Y0.jpg', '0033-F-023Y0.jpg', '0034-F-067Y0.jpg', '0035-M-026Y0.jpg', '0036-F-016Y0.jpg', '0037-F-019Y0.jpg', '0038-F-020Y0.jpg', '0040-M-023Y0.jpg', '0041-F-019Y0.jpg', '0042-F-019Y0.jpg', '0043-F-039Y0.jpg', '0044-F-022Y0.jpg', '0046-F-021Y0.jpg', '0047-F-023Y0.jpg', '0048-F-020Y0.jpg', '0049-F-013Y0.jpg', '0050-F-015Y0.jpg', '0051-F-066Y0.jpg', '0052-F-026Y0.jpg', '0053-F-040Y0.jpg', '0054-F-079Y0.jpg', '0055-F-032Y0.jpg', '0056-F-069Y0.jpg', '0057-F-030Y0.jpg', '0058-F-008Y0.jpg', '0059-F-028Y0.jpg', '0060-F-013Y0.jpg', '0061-F-021Y0.jpg', '0062-F-041Y0.jpg', '0063-F-036Y0.jpg', '0064-F-017Y0.jpg', '0065-F-032Y0.jpg', '0066-F-019Y0.jpg', '0067-F-028Y0.jpg', '0068-F-017Y0.jpg', '0069-M-039Y0.jpg', '0070-F-027Y0.jpg', '0071-F-016Y0.jpg', '0072-F-035Y0.jpg', '0073-F-036Y0.jpg', '0077-F-018Y0.jpg', '0078-F-016Y0.jpg', '0079-F-012Y0.jpg', '0081-M-022Y0.jpg', '0089-F-012Y0.jpg', '0090-F-016Y0.jpg', '0095-F-020Y0.jpg', '0097-F-040Y0.jpg', '0098-F-065Y0.jpg', '0100-M-051Y0.jpg', '0101-F-022Y0.jpg', '0102-F-013Y0.jpg', '0104-F-013Y0.jpg', '0105-F-009Y0.jpg', '0106-F-016Y0.jpg', '0107-F-033Y0.jpg', '0108-F-036Y0.jpg', '0109-F-042Y0.jpg', '0111-F-033Y0.jpg', '0112-F-064Y0.jpg', '0113-F-082Y0.jpg', '0114-F-038Y0.jpg', '0118-F-015Y0.jpg', '0121-F-072Y0.jpg', '0126-F-026Y0.jpg', '0134-M-038Y0.jpg', '0135-F-024Y0.jpg', '0136-F-027Y0.jpg', '0138-M-064Y0.jpg', '0139-F-077Y0.jpg', '0140-M-024Y0.jpg', '0141-M-055Y0.jpg', '0142-F-051Y0.jpg', '0143-F-089Y0.jpg', '0144-F-038Y0.jpg', '0145-F-047Y0.jpg', '0146-M-057Y0.jpg', '0147-F-086Y0.jpg', '0148-M-058Y0.jpg', '0149-M-062Y0.jpg', '0150-F-081Y0.jpg', '0151-M-079Y0.jpg', '0152-F-026Y0.jpg', '0153-M-021Y0.jpg', '0154-M-078Y0.jpg', '0155-F-067Y0.jpg', '0156-M-050Y0.jpg', '0157-M-060Y0.jpg', '0158-F-072Y0.jpg', '0159-M-062Y0.jpg', '0161-F-054Y0.jpg', '0162-M-084Y0.jpg', '0163-F-053Y0.jpg', '0164-F-064Y0.jpg', '0165-M-078Y0.jpg', '0166-F-071Y0.jpg', '0167-F-049Y0.jpg', '0168-M-055Y0.jpg', '0169-F-044Y0.jpg', '0170-M-074Y0.jpg', '0171-M-058Y0.jpg', '0172-F-078Y0.jpg', '0173-F-079Y0.jpg', '0174-M-063Y0.jpg', '0175-M-053Y0.jpg', '0177-F-037Y0.jpg', '0179-F-072Y0.jpg', '0180-M-082Y0.jpg', '0181-M-069Y0.jpg', '0182-F-059Y0.jpg', '0183-F-080Y0.jpg', '0184-M-034Y0.jpg', '0185-F-073Y0.jpg', '0186-F-042Y0.jpg', '0187-F-067Y0.jpg', '0188-F-066Y0.jpg', '0189-M-068Y0.jpg', '0191-F-066Y0.jpg', '0194-F-077Y0.jpg', '0195-F-064Y0.jpg', '0196-F-051Y0.jpg', '0197-F-077Y0.jpg', '0198-F-063Y0.jpg', '0199-F-035Y0.jpg', '0200-M-065Y0.jpg', '0201-F-077Y0.jpg', '0202-F-068Y0.jpg', '0203-M-081Y0.jpg', '0204-F-084Y0.jpg', '0205-M-063Y0.jpg', '0206-F-070Y0.jpg', '0207-F-061Y0.jpg', '0208-F-058Y0.jpg', '0209-M-072Y0.jpg', '0210-F-079Y0.jpg', '0211-F-055Y0.jpg', '0212-F-049Y0.jpg', '0213-F-086Y0.jpg', '0214-F-072Y0.jpg', '0218-M-067Y0.jpg', '0219-F-077Y0.jpg', '0220-F-069Y0.jpg', '0221-F-066Y0.jpg', '0222-F-051Y0.jpg', '0223-F-063Y0.jpg', '0225-M-086Y0.jpg', '0226-M-060Y0.jpg', '0227-M-055Y0.jpg', '0228-F-057Y0.jpg', '0229-F-078Y0.jpg', '0230-F-078Y0.jpg', '0231-F-056Y0.jpg', '0233-F-064Y0.jpg', '0234-F-073Y0.jpg', '0235-F-073Y0.jpg', '0236-M-065Y0.jpg', '0238-F-067Y0.jpg', '0239-F-073Y0.jpg', '0240-F-061Y0.jpg', '0241-F-078Y0.jpg', '0242-M-066Y0.jpg', '0243-M-068Y0.jpg', '0244-M-025Y0.jpg', '0245-F-086Y0.jpg', '0246-M-027Y0.jpg', '0247-F-063Y0.jpg', '0248-F-058Y0.jpg', '0249-F-074Y0.jpg', '0250-F-069Y0.jpg', '0251-M-055Y0.jpg', '0252-M-056Y0.jpg', '0253-F-055Y0.jpg', '0254-F-064Y0.jpg', '0255-F-053Y0.jpg', '0256-M-056Y0.jpg', '0258-F-058Y0.jpg', '0259-F-073Y0.jpg', '0260-F-084Y0.jpg', '0261-F-056Y0.jpg', '0262-F-084Y0.jpg', '0263-F-049Y0.jpg', '0264-F-044Y0.jpg', '0265-F-081Y0.jpg', '0267-F-065Y0.jpg', '0268-M-052Y0.jpg', '0269-M-062Y0.jpg', '0271-F-062Y0.jpg', '0272-M-035Y0.jpg', '0273-M-056Y0.jpg', '0274-M-064Y0.jpg', '0275-M-074Y0.jpg', '0276-F-076Y0.jpg', '0277-F-050Y0.jpg', '0278-F-055Y0.jpg', '0279-M-043Y0.jpg', '0280-F-051Y0.jpg', '0281-M-052Y0.jpg', '0282-F-034Y0.jpg', '0283-M-030Y0.jpg', '0284-F-061Y0.jpg', '0285-F-061Y0.jpg', '0286-F-065Y0.jpg', '0287-M-078Y0.jpg', '0288-M-077Y0.jpg', '0290-F-030Y0.jpg', '0291-M-073Y0.jpg', '0292-F-058Y0.jpg', '0293-M-068Y0.jpg', '0294-F-068Y0.jpg', '0295-F-074Y0.jpg', '0296-F-039Y0.jpg', '0297-F-031Y0.jpg', '0298-M-011Y0.jpg', '0299-F-060Y0.jpg', '0300-M-083Y0.jpg', '0301-F-036Y0.jpg', '0302-F-068Y0.jpg', '0303-M-044Y0.jpg', '0304-M-068Y0.jpg', '0305-F-025Y0.jpg', '0306-M-072Y0.jpg', '0307-F-072Y0.jpg', '0308-M-067Y0.jpg', '0310-F-072Y0.jpg', '0311-F-074Y0.jpg', '0312-M-036Y0.jpg', '0313-M-036Y0.jpg', '0314-M-015Y0.jpg', '0315-F-067Y0.jpg', '0316-F-074Y0.jpg', '0318-F-053Y0.jpg', '0319-F-040Y0.jpg', '0320-M-069Y0.jpg', '0321-F-069Y0.jpg', '0322-F-061Y0.jpg', '0323-M-054Y0.jpg', '0324-F-061Y0.jpg', '0325-M-039Y0.jpg', '0326-F-026Y0.jpg', '0327-F-079Y0.jpg', '0328-M-083Y0.jpg', '0329-M-051Y0.jpg', '0330-M-049Y0.jpg', '0332-M-084Y0.jpg', '0333-F-070Y0.jpg', '0334-F-058Y0.jpg', '0335-F-079Y0.jpg', '0336-M-050Y0.jpg', '0337-M-027Y0.jpg', '0338-F-027Y0.jpg', '0340-M-056Y0.jpg', '0341-F-038Y0.jpg', '0342-F-060Y0.jpg', '0343-M-031Y0.jpg', '0344-F-058Y0.jpg', '0345-M-064Y0.jpg', '0363-F-062Y0.jpg', '0377-F-045Y0.jpg', '0378-F-075Y0.jpg', '0379-M-040Y0.jpg', '0380-M-060Y0.jpg', '0381-F-062Y0.jpg', '0382-M-028Y0.jpg', '0384-F-078Y0.jpg', '0385-F-071Y0.jpg', '0386-M-071Y0.jpg', '0387-M-046Y0.jpg', '0388-M-073Y0.jpg', '0389-F-063Y0.jpg', '0390-M-080Y0.jpg', '0391-M-046Y0.jpg', '0393-M-064Y0.jpg', '0394-F-062Y0.jpg', '0395-M-080Y0.jpg', '0396-F-053Y0.jpg', '0397-M-023Y0.jpg', '0398-F-070Y0.jpg', '0399-M-023Y0.jpg', '0400-F-024Y0.jpg', '0401-M-049Y0.jpg', '0402-F-042Y0.jpg', '0403-M-039Y0.jpg', '0405-F-060Y0.jpg', '0406-F-067Y0.jpg', '0409-F-043Y0.jpg', '0411-F-066Y0.jpg', '0412-F-023Y0.jpg', '0413-M-036Y0.jpg', '0415-F-061Y0.jpg', '0416-F-022Y0.jpg', '0417-F-069Y0.jpg', '0418-F-025Y0.jpg', '0419-F-022Y0.jpg', '0420-F-079Y0.jpg', '0421-F-083Y0.jpg', '0422-F-088Y0.jpg', '0423-M-065Y0.jpg', '0424-M-074Y0.jpg', '0425-M-062Y0.jpg', '0426-F-063Y0.jpg', '0427-F-050Y0.jpg', '0428-F-077Y0.jpg', '0429-M-083Y0.jpg', '0430-M-060Y0.jpg', '0431-F-066Y0.jpg', '0432-F-054Y0.jpg', '0433-F-021Y0.jpg', '0434-M-041Y0.jpg', '0435-M-045Y0.jpg', '0436-F-054Y0.jpg', '0437-F-065Y0.jpg', '0438-F-062Y0.jpg', '0439-M-044Y0.jpg', '0440-F-030Y0.jpg', '0441-M-044Y0.jpg', '0442-F-021Y0.jpg', '0443-M-020Y0.jpg', '0444-F-020Y0.jpg', '0445-F-021Y0.jpg', '0446-M-060Y0.jpg', '0447-M-067Y0.jpg', '0449-F-059Y0.jpg', '0450-F-072Y0.jpg', '0451-F-066Y0.jpg', '0452-M-042Y0.jpg', '0453-F-064Y0.jpg', '0454-F-040Y0.jpg', '0455-F-078Y0.jpg', '0457-F-055Y0.jpg', '0458-M-020Y0.jpg', '0459-F-042Y0.jpg', '0460-F-019Y0.jpg', '0461-F-019Y0.jpg', '0462-M-041Y0.jpg', '0463-F-020Y0.jpg', '0464-F-074Y0.jpg', '0465-F-040Y0.jpg', '0466-F-046Y0.jpg', '0467-F-025Y0.jpg', '0468-F-073Y0.jpg', '0469-F-068Y0.jpg', '0470-F-065Y0.jpg', '0471-M-081Y0.jpg', '0472-F-070Y0.jpg', '0474-M-027Y0.jpg', '0475-M-053Y0.jpg', '0476-M-047Y0.jpg', '0477-F-075Y0.jpg', '0478-F-034Y0.jpg', '0479-F-033Y0.jpg', '0480-M-052Y0.jpg', '0481-F-051Y0.jpg', '0482-F-065Y0.jpg', '0483-F-018Y0.jpg', '0484-F-057Y0.jpg', '0485-M-062Y0.jpg', '0486-M-033Y0.jpg', '0487-F-047Y0.jpg', '0488-F-050Y0.jpg', '0489-F-052Y0.jpg', '0490-F-038Y0.jpg', '0491-F-018Y0.jpg', '0492-F-051Y0.jpg', '0493-F-029Y0.jpg', '0494-F-066Y0.jpg', '0495-M-048Y0.jpg', '0496-F-055Y0.jpg', '0497-M-027Y0.jpg', '0498-M-054Y0.jpg', '0499-F-065Y0.jpg', '0500-M-033Y0.jpg', '0501-M-080Y0.jpg'] annotations: ['0001-F-037Y0.txt', '0003-F-013Y0.txt', '0004-F-010Y0.txt', '0005-F-025Y0.txt', '0006-F-031Y0.txt', '0007-F-006Y0.txt', '0008-M-022Y0.txt', '0009-F-038Y0.txt', '0010-F-037Y0.txt', '0011-F-063Y0.txt', '0012-F-013Y0.txt', '0013-M-022Y0.txt', '0014-F-062Y0.txt', '0015-M-020Y0.txt', '0016-F-023Y0.txt', '0017-F-040Y0.txt', '0018-F-020Y0.txt', '0019-F-015Y0.txt', '0020-M-030Y0.txt', '0021-F-079Y0.txt', '0022-M-006Y0.txt', '0023-F-014Y0.txt', '0024-F-014Y0.txt', '0025-F-015Y0.txt', '0026-F-029Y0.txt', '0028-F-041Y0.txt', '0029-M-019Y0.txt', '0031-F-014Y0.txt', '0032-F-007Y0.txt', '0033-F-023Y0.txt', '0034-F-067Y0.txt', '0035-M-026Y0.txt', '0036-F-016Y0.txt', '0037-F-019Y0.txt', '0038-F-020Y0.txt', '0040-M-023Y0.txt', '0041-F-019Y0.txt', '0042-F-019Y0.txt', '0043-F-039Y0.txt', '0044-F-022Y0.txt', '0046-F-021Y0.txt', '0047-F-023Y0.txt', '0048-F-020Y0.txt', '0049-F-013Y0.txt', '0050-F-015Y0.txt', '0051-F-066Y0.txt', '0052-F-026Y0.txt', '0053-F-040Y0.txt', '0054-F-079Y0.txt', '0055-F-032Y0.txt', '0056-F-069Y0.txt', '0057-F-030Y0.txt', '0058-F-008Y0.txt', '0059-F-028Y0.txt', '0060-F-013Y0.txt', '0061-F-021Y0.txt', '0062-F-041Y0.txt', '0063-F-036Y0.txt', '0064-F-017Y0.txt', '0065-F-032Y0.txt', '0066-F-019Y0.txt', '0067-F-028Y0.txt', '0068-F-017Y0.txt', '0069-M-039Y0.txt', '0070-F-027Y0.txt', '0071-F-016Y0.txt', '0072-F-035Y0.txt', '0073-F-036Y0.txt', '0077-F-018Y0.txt', '0078-F-016Y0.txt', '0079-F-012Y0.txt', '0081-M-022Y0.txt', '0089-F-012Y0.txt', '0090-F-016Y0.txt', '0095-F-020Y0.txt', '0097-F-040Y0.txt', '0098-F-065Y0.txt', '0100-M-051Y0.txt', '0101-F-022Y0.txt', '0102-F-013Y0.txt', '0104-F-013Y0.txt', '0105-F-009Y0.txt', '0106-F-016Y0.txt', '0107-F-033Y0.txt', '0108-F-036Y0.txt', '0109-F-042Y0.txt', '0111-F-033Y0.txt', '0112-F-064Y0.txt', '0113-F-082Y0.txt', '0114-F-038Y0.txt', '0118-F-015Y0.txt', '0121-F-072Y0.txt', '0126-F-026Y0.txt', '0134-M-038Y0.txt', '0135-F-024Y0.txt', '0136-F-027Y0.txt', '0138-M-064Y0.txt', '0139-F-077Y0.txt', '0140-M-024Y0.txt', '0141-M-055Y0.txt', '0142-F-051Y0.txt', '0143-F-089Y0.txt', '0144-F-038Y0.txt', '0145-F-047Y0.txt', '0146-M-057Y0.txt', '0147-F-086Y0.txt', '0148-M-058Y0.txt', '0149-M-062Y0.txt', '0150-F-081Y0.txt', '0151-M-079Y0.txt', '0152-F-026Y0.txt', '0153-M-021Y0.txt', '0154-M-078Y0.txt', '0155-F-067Y0.txt', '0156-M-050Y0.txt', '0157-M-060Y0.txt', '0158-F-072Y0.txt', '0159-M-062Y0.txt', '0161-F-054Y0.txt', '0162-M-084Y0.txt', '0163-F-053Y0.txt', '0164-F-064Y0.txt', '0165-M-078Y0.txt', '0166-F-071Y0.txt', '0167-F-049Y0.txt', '0168-M-055Y0.txt', '0169-F-044Y0.txt', '0170-M-074Y0.txt', '0171-M-058Y0.txt', '0172-F-078Y0.txt', '0173-F-079Y0.txt', '0174-M-063Y0.txt', '0175-M-053Y0.txt', '0177-F-037Y0.txt', '0179-F-072Y0.txt', '0180-M-082Y0.txt', '0181-M-069Y0.txt', '0182-F-059Y0.txt', '0183-F-080Y0.txt', '0184-M-034Y0.txt', '0185-F-073Y0.txt', '0186-F-042Y0.txt', '0187-F-067Y0.txt', '0188-F-066Y0.txt', '0189-M-068Y0.txt', '0191-F-066Y0.txt', '0194-F-077Y0.txt', '0195-F-064Y0.txt', '0196-F-051Y0.txt', '0197-F-077Y0.txt', '0198-F-063Y0.txt', '0199-F-035Y0.txt', '0200-M-065Y0.txt', '0201-F-077Y0.txt', '0202-F-068Y0.txt', '0203-M-081Y0.txt', '0204-F-084Y0.txt', '0205-M-063Y0.txt', '0206-F-070Y0.txt', '0207-F-061Y0.txt', '0208-F-058Y0.txt', '0209-M-072Y0.txt', '0210-F-079Y0.txt', '0211-F-055Y0.txt', '0212-F-049Y0.txt', '0213-F-086Y0.txt', '0214-F-072Y0.txt', '0218-M-067Y0.txt', '0219-F-077Y0.txt', '0220-F-069Y0.txt', '0221-F-066Y0.txt', '0222-F-051Y0.txt', '0223-F-063Y0.txt', '0225-M-086Y0.txt', '0226-M-060Y0.txt', '0227-M-055Y0.txt', '0228-F-057Y0.txt', '0229-F-078Y0.txt', '0230-F-078Y0.txt', '0231-F-056Y0.txt', '0233-F-064Y0.txt', '0234-F-073Y0.txt', '0235-F-073Y0.txt', '0236-M-065Y0.txt', '0238-F-067Y0.txt', '0239-F-073Y0.txt', '0240-F-061Y0.txt', '0241-F-078Y0.txt', '0242-M-066Y0.txt', '0243-M-068Y0.txt', '0244-M-025Y0.txt', '0245-F-086Y0.txt', '0246-M-027Y0.txt', '0247-F-063Y0.txt', '0248-F-058Y0.txt', '0249-F-074Y0.txt', '0250-F-069Y0.txt', '0251-M-055Y0.txt', '0252-M-056Y0.txt', '0253-F-055Y0.txt', '0254-F-064Y0.txt', '0255-F-053Y0.txt', '0256-M-056Y0.txt', '0258-F-058Y0.txt', '0259-F-073Y0.txt', '0260-F-084Y0.txt', '0261-F-056Y0.txt', '0262-F-084Y0.txt', '0263-F-049Y0.txt', '0264-F-044Y0.txt', '0265-F-081Y0.txt', '0267-F-065Y0.txt', '0268-M-052Y0.txt', '0269-M-062Y0.txt', '0271-F-062Y0.txt', '0272-M-035Y0.txt', '0273-M-056Y0.txt', '0274-M-064Y0.txt', '0275-M-074Y0.txt', '0276-F-076Y0.txt', '0277-F-050Y0.txt', '0278-F-055Y0.txt', '0279-M-043Y0.txt', '0280-F-051Y0.txt', '0281-M-052Y0.txt', '0282-F-034Y0.txt', '0283-M-030Y0.txt', '0284-F-061Y0.txt', '0285-F-061Y0.txt', '0286-F-065Y0.txt', '0287-M-078Y0.txt', '0288-M-077Y0.txt', '0290-F-030Y0.txt', '0291-M-073Y0.txt', '0292-F-058Y0.txt', '0293-M-068Y0.txt', '0294-F-068Y0.txt', '0295-F-074Y0.txt', '0296-F-039Y0.txt', '0297-F-031Y0.txt', '0298-M-011Y0.txt', '0299-F-060Y0.txt', '0300-M-083Y0.txt', '0301-F-036Y0.txt', '0302-F-068Y0.txt', '0303-M-044Y0.txt', '0304-M-068Y0.txt', '0305-F-025Y0.txt', '0306-M-072Y0.txt', '0307-F-072Y0.txt', '0308-M-067Y0.txt', '0310-F-072Y0.txt', '0311-F-074Y0.txt', '0312-M-036Y0.txt', '0313-M-036Y0.txt', '0314-M-015Y0.txt', '0315-F-067Y0.txt', '0316-F-074Y0.txt', '0318-F-053Y0.txt', '0319-F-040Y0.txt', '0320-M-069Y0.txt', '0321-F-069Y0.txt', '0322-F-061Y0.txt', '0323-M-054Y0.txt', '0324-F-061Y0.txt', '0325-M-039Y0.txt', '0326-F-026Y0.txt', '0327-F-079Y0.txt', '0328-M-083Y0.txt', '0329-M-051Y0.txt', '0330-M-049Y0.txt', '0332-M-084Y0.txt', '0333-F-070Y0.txt', '0334-F-058Y0.txt', '0335-F-079Y0.txt', '0336-M-050Y0.txt', '0337-M-027Y0.txt', '0338-F-027Y0.txt', '0340-M-056Y0.txt', '0341-F-038Y0.txt', '0342-F-060Y0.txt', '0343-M-031Y0.txt', '0344-F-058Y0.txt', '0345-M-064Y0.txt', '0363-F-062Y0.txt', '0377-F-045Y0.txt', '0378-F-075Y0.txt', '0379-M-040Y0.txt', '0380-M-060Y0.txt', '0381-F-062Y0.txt', '0382-M-028Y0.txt', '0384-F-078Y0.txt', '0385-F-071Y0.txt', '0386-M-071Y0.txt', '0387-M-046Y0.txt', '0388-M-073Y0.txt', '0389-F-063Y0.txt', '0390-M-080Y0.txt', '0391-M-046Y0.txt', '0393-M-064Y0.txt', '0394-F-062Y0.txt', '0395-M-080Y0.txt', '0396-F-053Y0.txt', '0397-M-023Y0.txt', '0398-F-070Y0.txt', '0399-M-023Y0.txt', '0400-F-024Y0.txt', '0401-M-049Y0.txt', '0402-F-042Y0.txt', '0403-M-039Y0.txt', '0405-F-060Y0.txt', '0406-F-067Y0.txt', '0409-F-043Y0.txt', '0411-F-066Y0.txt', '0412-F-023Y0.txt', '0413-M-036Y0.txt', '0415-F-061Y0.txt', '0416-F-022Y0.txt', '0417-F-069Y0.txt', '0418-F-025Y0.txt', '0419-F-022Y0.txt', '0420-F-079Y0.txt', '0421-F-083Y0.txt', '0422-F-088Y0.txt', '0423-M-065Y0.txt', '0424-M-074Y0.txt', '0425-M-062Y0.txt', '0426-F-063Y0.txt', '0427-F-050Y0.txt', '0428-F-077Y0.txt', '0429-M-083Y0.txt', '0430-M-060Y0.txt', '0431-F-066Y0.txt', '0432-F-054Y0.txt', '0433-F-021Y0.txt', '0434-M-041Y0.txt', '0435-M-045Y0.txt', '0436-F-054Y0.txt', '0437-F-065Y0.txt', '0438-F-062Y0.txt', '0439-M-044Y0.txt', '0440-F-030Y0.txt', '0441-M-044Y0.txt', '0442-F-021Y0.txt', '0443-M-020Y0.txt', '0444-F-020Y0.txt', '0445-F-021Y0.txt', '0446-M-060Y0.txt', '0447-M-067Y0.txt', '0449-F-059Y0.txt', '0450-F-072Y0.txt', '0451-F-066Y0.txt', '0452-M-042Y0.txt', '0453-F-064Y0.txt', '0454-F-040Y0.txt', '0455-F-078Y0.txt', '0457-F-055Y0.txt', '0458-M-020Y0.txt', '0459-F-042Y0.txt', '0460-F-019Y0.txt', '0461-F-019Y0.txt', '0462-M-041Y0.txt', '0463-F-020Y0.txt', '0464-F-074Y0.txt', '0465-F-040Y0.txt', '0466-F-046Y0.txt', '0467-F-025Y0.txt', '0468-F-073Y0.txt', '0469-F-068Y0.txt', '0470-F-065Y0.txt', '0471-M-081Y0.txt', '0472-F-070Y0.txt', '0474-M-027Y0.txt', '0475-M-053Y0.txt', '0476-M-047Y0.txt', '0477-F-075Y0.txt', '0478-F-034Y0.txt', '0479-F-033Y0.txt', '0480-M-052Y0.txt', '0481-F-051Y0.txt', '0482-F-065Y0.txt', '0483-F-018Y0.txt', '0484-F-057Y0.txt', '0485-M-062Y0.txt', '0486-M-033Y0.txt', '0487-F-047Y0.txt', '0488-F-050Y0.txt', '0489-F-052Y0.txt', '0490-F-038Y0.txt', '0491-F-018Y0.txt', '0492-F-051Y0.txt', '0493-F-029Y0.txt', '0494-F-066Y0.txt', '0495-M-048Y0.txt', '0496-F-055Y0.txt', '0497-M-027Y0.txt', '0498-M-054Y0.txt', '0499-F-065Y0.txt', '0500-M-033Y0.txt', '0501-M-080Y0.txt']\n",
      "images: 400 annotations: 400\n"
     ]
    }
   ],
   "source": [
    "import os\n",
    "from PIL import Image\n",
    "\n",
    "data_dir = 'AP'\n",
    "images = []\n",
    "annotations = []\n",
    "\n",
    "for file in os.listdir(data_dir):\n",
    "    if file.endswith('.csv'):  \n",
    "        annotations.append(file.replace('.csv', '.txt'))\n",
    "\n",
    "        source_path = os.path.join(data_dir, file)\n",
    "        target_path = os.path.join(data_dir, file.replace('.csv', '.txt'))\n",
    "\n",
    "        image_file = file.replace('.csv', '.jpg')\n",
    "        image_path = os.path.join(data_dir, image_file)\n",
    "\n",
    "        # Sprawdź, czy plik obrazu istnieje\n",
    "        if not os.path.exists(image_path):\n",
    "            print(f\"Ostrzeżenie: Brak pliku obrazu dla {file}. Pomijanie.\")\n",
    "            continue\n",
    "\n",
    "        # Wczytaj wymiary obrazu\n",
    "        with Image.open(image_path) as img:\n",
    "            image_width, image_height = img.size\n",
    "\n",
    "        normalized_lines = []  \n",
    "\n",
    "        # Wczytaj i przetwórz plik CSV\n",
    "        with open(source_path, 'r') as f:\n",
    "            lines = f.readlines() \n",
    "\n",
    "            # Przetwarzaj linie parami (L1a i L1b, L2a i L2b, itd.)\n",
    "            for i in range(0, len(lines), 2):\n",
    "                # Linia A (np. L1a)\n",
    "                line_a = lines[i].strip().split(',')\n",
    "                # Linia B (np. L1b)\n",
    "                line_b = lines[i + 1].strip().split(',')\n",
    "\n",
    "                # Współrzędne linii A\n",
    "                x1_a, y1_a, x2_a, y2_a, class_a = map(float, line_a[:5])\n",
    "                # Współrzędne linii B\n",
    "                x1_b, y1_b, x2_b, y2_b, class_b = map(float, line_b[:5])\n",
    "\n",
    "                # Pomijanie klas oznaczonych jako ✕1\n",
    "                if class_a == \"✕1\" or class_b == \"✕1\":\n",
    "                    continue\n",
    "\n",
    "                # Oblicz środek bounding boxa\n",
    "                x_center = ((x1_a + x2_a) / 2 + (x1_b + x2_b) / 2) / 2 / image_width\n",
    "                y_center = ((y1_a + y2_a) / 2 + (y1_b + y2_b) / 2) / 2 / image_height\n",
    "\n",
    "                # Oblicz szerokość i wysokość bounding boxa\n",
    "                width = (max(x2_a, x2_b) - min(x1_a, x1_b)) / image_width\n",
    "                height = (max(y2_a, y2_b) - min(y1_a, y1_b)) / image_height\n",
    "\n",
    "                # Użyj klasy z linii B\n",
    "                normalized_values = [int(class_b), x_center, y_center, width, height]\n",
    "                normalized_lines.append(' '.join(map(str, normalized_values)))  \n",
    "\n",
    "        # Zapisz przekonwertowane dane do pliku TXT\n",
    "        with open(target_path, 'w') as f:\n",
    "            f.write('\\n'.join(normalized_lines))  \n",
    "\n",
    "    elif file.endswith('.jpg'):  \n",
    "        images.append(file)\n",
    "\n",
    "print(f\"images: {images} annotations: {annotations}\")\n",
    "print(f\"images: {len(images)} annotations: {len(annotations)}\")"
   ],
   "metadata": {
    "collapsed": false,
    "ExecuteTime": {
     "end_time": "2024-12-27T18:59:40.444216300Z",
     "start_time": "2024-12-27T18:59:36.541260800Z"
    }
   },
   "id": "fd610bbf72164ef3"
  },
  {
   "cell_type": "code",
   "execution_count": 2,
   "outputs": [],
   "source": [
    "import os\n",
    "import shutil\n",
    "\n",
    "length = len(images)\n",
    "train_len = int(length * 0.8)\n",
    "test_len = train_len + int(length * 0.1)\n",
    "valid_len = length  \n",
    "\n",
    "for num in range(length):\n",
    "    if num < train_len:\n",
    "        img_path = f'dataset_AP/train/images/{images[num]}'\n",
    "        label_path = f'dataset_AP/train/labels/{annotations[num]}'\n",
    "    elif num < test_len:\n",
    "        img_path = f'dataset_AP/test/images/{images[num]}'\n",
    "        label_path = f'dataset_AP/test/labels/{annotations[num]}'\n",
    "    else:  # num >= test_len\n",
    "        img_path = f'dataset_AP/valid/images/{images[num]}'\n",
    "        label_path = f'dataset_AP/valid/labels/{annotations[num]}'\n",
    "\n",
    "    shutil.copyfile(data_dir+\"/\"+images[num], img_path)\n",
    "    shutil.copyfile(data_dir+\"/\"+annotations[num], label_path)"
   ],
   "metadata": {
    "collapsed": false,
    "ExecuteTime": {
     "end_time": "2024-12-27T19:00:33.847216900Z",
     "start_time": "2024-12-27T19:00:28.223495800Z"
    }
   },
   "id": "ffaee1a479eb22b1"
  },
  {
   "cell_type": "code",
   "execution_count": 3,
   "outputs": [
    {
     "ename": "IndexError",
     "evalue": "list index out of range",
     "output_type": "error",
     "traceback": [
      "\u001B[1;31m---------------------------------------------------------------------------\u001B[0m",
      "\u001B[1;31mIndexError\u001B[0m                                Traceback (most recent call last)",
      "Cell \u001B[1;32mIn[3], line 38\u001B[0m\n\u001B[0;32m     36\u001B[0m line_a \u001B[38;5;241m=\u001B[39m lines[i]\u001B[38;5;241m.\u001B[39mstrip()\u001B[38;5;241m.\u001B[39msplit(\u001B[38;5;124m'\u001B[39m\u001B[38;5;124m,\u001B[39m\u001B[38;5;124m'\u001B[39m)\n\u001B[0;32m     37\u001B[0m \u001B[38;5;66;03m# Linia B (np. L1b)\u001B[39;00m\n\u001B[1;32m---> 38\u001B[0m line_b \u001B[38;5;241m=\u001B[39m \u001B[43mlines\u001B[49m\u001B[43m[\u001B[49m\u001B[43mi\u001B[49m\u001B[43m \u001B[49m\u001B[38;5;241;43m+\u001B[39;49m\u001B[43m \u001B[49m\u001B[38;5;241;43m1\u001B[39;49m\u001B[43m]\u001B[49m\u001B[38;5;241m.\u001B[39mstrip()\u001B[38;5;241m.\u001B[39msplit(\u001B[38;5;124m'\u001B[39m\u001B[38;5;124m,\u001B[39m\u001B[38;5;124m'\u001B[39m)\n\u001B[0;32m     40\u001B[0m \u001B[38;5;66;03m# Współrzędne linii A\u001B[39;00m\n\u001B[0;32m     41\u001B[0m x1_a, y1_a, x2_a, y2_a, class_a \u001B[38;5;241m=\u001B[39m \u001B[38;5;28mmap\u001B[39m(\u001B[38;5;28mfloat\u001B[39m, line_a[:\u001B[38;5;241m5\u001B[39m])\n",
      "\u001B[1;31mIndexError\u001B[0m: list index out of range"
     ]
    }
   ],
   "source": [
    "import os\n",
    "from PIL import Image\n",
    "\n",
    "data_dir = 'LA'\n",
    "images = []\n",
    "annotations = []\n",
    "\n",
    "for file in os.listdir(data_dir):\n",
    "    if file.endswith('.csv'):  \n",
    "        annotations.append(file.replace('.csv', '.txt'))\n",
    "\n",
    "        source_path = os.path.join(data_dir, file)\n",
    "        target_path = os.path.join(data_dir, file.replace('.csv', '.txt'))\n",
    "\n",
    "        image_file = file.replace('.csv', '.jpg')\n",
    "        image_path = os.path.join(data_dir, image_file)\n",
    "\n",
    "        # Sprawdź, czy plik obrazu istnieje\n",
    "        if not os.path.exists(image_path):\n",
    "            print(f\"Ostrzeżenie: Brak pliku obrazu dla {file}. Pomijanie.\")\n",
    "            continue\n",
    "\n",
    "        # Wczytaj wymiary obrazu\n",
    "        with Image.open(image_path) as img:\n",
    "            image_width, image_height = img.size\n",
    "\n",
    "        normalized_lines = []  \n",
    "\n",
    "        # Wczytaj i przetwórz plik CSV\n",
    "        with open(source_path, 'r') as f:\n",
    "            lines = f.readlines() \n",
    "\n",
    "            # Przetwarzaj linie parami (L1a i L1b, L2a i L2b, itd.)\n",
    "            for i in range(0, len(lines), 2):\n",
    "                # Linia A (np. L1a)\n",
    "                line_a = lines[i].strip().split(',')\n",
    "                # Linia B (np. L1b)\n",
    "                line_b = lines[i + 1].strip().split(',')\n",
    "\n",
    "                # Współrzędne linii A\n",
    "                x1_a, y1_a, x2_a, y2_a, class_a = map(float, line_a[:5])\n",
    "                # Współrzędne linii B\n",
    "                x1_b, y1_b, x2_b, y2_b, class_b = map(float, line_b[:5])\n",
    "\n",
    "                # Pomijanie klas oznaczonych jako ✕1\n",
    "                if class_a == \"✕1\" or class_b == \"✕1\":\n",
    "                    continue\n",
    "\n",
    "                # Oblicz środek bounding boxa\n",
    "                x_center = ((x1_a + x2_a) / 2 + (x1_b + x2_b) / 2) / 2 / image_width\n",
    "                y_center = ((y1_a + y2_a) / 2 + (y1_b + y2_b) / 2) / 2 / image_height\n",
    "\n",
    "                # Oblicz szerokość i wysokość bounding boxa\n",
    "                width = (max(x2_a, x2_b) - min(x1_a, x1_b)) / image_width\n",
    "                height = (max(y2_a, y2_b) - min(y1_a, y1_b)) / image_height\n",
    "\n",
    "                # Użyj klasy z linii B\n",
    "                normalized_values = [int(class_b), x_center, y_center, width, height]\n",
    "                normalized_lines.append(' '.join(map(str, normalized_values)))  \n",
    "\n",
    "        # Zapisz przekonwertowane dane do pliku TXT\n",
    "        with open(target_path, 'w') as f:\n",
    "            f.write('\\n'.join(normalized_lines))  \n",
    "\n",
    "    elif file.endswith('.jpg'):  \n",
    "        images.append(file)\n",
    "\n",
    "print(f\"images: {images} annotations: {annotations}\")\n",
    "print(f\"images: {len(images)} annotations: {len(annotations)}\")"
   ],
   "metadata": {
    "collapsed": false,
    "ExecuteTime": {
     "end_time": "2024-12-27T19:01:14.373811900Z",
     "start_time": "2024-12-27T19:01:13.032063700Z"
    }
   },
   "id": "d64e08ef2c3ee934"
  },
  {
   "cell_type": "code",
   "execution_count": null,
   "outputs": [],
   "source": [
    "import os\n",
    "import shutil\n",
    "\n",
    "length = len(images)\n",
    "train_len = int(length * 0.8)\n",
    "test_len = train_len + int(length * 0.1)\n",
    "valid_len = length  \n",
    "\n",
    "for num in range(length):\n",
    "    if num < train_len:\n",
    "        img_path = f'dataset_LA/train/images/{images[num]}'\n",
    "        label_path = f'dataset_LA/train/labels/{annotations[num]}'\n",
    "    elif num < test_len:\n",
    "        img_path = f'dataset_LA/test/images/{images[num]}'\n",
    "        label_path = f'dataset_LA/test/labels/{annotations[num]}'\n",
    "    else:  # num >= test_len\n",
    "        img_path = f'dataset_LA/valid/images/{images[num]}'\n",
    "        label_path = f'dataset_LA/valid/labels/{annotations[num]}'\n",
    "\n",
    "    shutil.copyfile(data_dir+\"/\"+images[num], img_path)\n",
    "    shutil.copyfile(data_dir+\"/\"+annotations[num], label_path)"
   ],
   "metadata": {
    "collapsed": false,
    "ExecuteTime": {
     "start_time": "2024-12-27T19:01:14.380491400Z"
    }
   },
   "id": "dcb4b0ad11dbe704"
  },
  {
   "cell_type": "code",
   "execution_count": null,
   "outputs": [],
   "source": [],
   "metadata": {
    "collapsed": false
   },
   "id": "c2ee6e2ee7dd6202"
  }
 ],
 "metadata": {
  "kernelspec": {
   "display_name": "Python 3",
   "language": "python",
   "name": "python3"
  },
  "language_info": {
   "codemirror_mode": {
    "name": "ipython",
    "version": 2
   },
   "file_extension": ".py",
   "mimetype": "text/x-python",
   "name": "python",
   "nbconvert_exporter": "python",
   "pygments_lexer": "ipython2",
   "version": "2.7.6"
  }
 },
 "nbformat": 4,
 "nbformat_minor": 5
}
